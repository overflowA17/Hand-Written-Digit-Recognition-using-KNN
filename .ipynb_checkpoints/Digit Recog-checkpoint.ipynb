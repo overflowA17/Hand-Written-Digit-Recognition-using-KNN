{
 "cells": [
  {
   "cell_type": "code",
   "execution_count": 1,
   "metadata": {},
   "outputs": [],
   "source": [
    "from sklearn.datasets import load_digits\n",
    "\n",
    "dataset = load_digits()#toy dataset\n",
    "\n",
    "data = dataset.data\n",
    "target = dataset.target\n",
    "images = dataset.images"
   ]
  },
  {
   "cell_type": "code",
   "execution_count": 2,
   "metadata": {},
   "outputs": [
    {
     "data": {
      "text/plain": [
       "(1797, 64)"
      ]
     },
     "execution_count": 2,
     "metadata": {},
     "output_type": "execute_result"
    }
   ],
   "source": [
    "data.shape"
   ]
  },
  {
   "cell_type": "code",
   "execution_count": 3,
   "metadata": {},
   "outputs": [
    {
     "data": {
      "text/plain": [
       "(1797,)"
      ]
     },
     "execution_count": 3,
     "metadata": {},
     "output_type": "execute_result"
    }
   ],
   "source": [
    "target.shape"
   ]
  },
  {
   "cell_type": "code",
   "execution_count": 4,
   "metadata": {},
   "outputs": [
    {
     "data": {
      "text/plain": [
       "(1797, 8, 8)"
      ]
     },
     "execution_count": 4,
     "metadata": {},
     "output_type": "execute_result"
    }
   ],
   "source": [
    "images.shape"
   ]
  },
  {
   "cell_type": "code",
   "execution_count": 5,
   "metadata": {},
   "outputs": [],
   "source": [
    "from matplotlib import pyplot as plt"
   ]
  },
  {
   "cell_type": "code",
   "execution_count": 6,
   "metadata": {},
   "outputs": [
    {
     "data": {
      "text/plain": [
       "<matplotlib.image.AxesImage at 0x186ef7d3370>"
      ]
     },
     "execution_count": 6,
     "metadata": {},
     "output_type": "execute_result"
    },
    {
     "data": {
      "image/png": "[encoded data removed]",
      "text/plain": [
       "<Figure size 432x288 with 1 Axes>"
      ]
     },
     "metadata": {
      "needs_background": "light"
     },
     "output_type": "display_data"
    }
   ],
   "source": [
    "plt.imshow(images[100], cmap = 'gray') #8x8 version"
   ]
  },
  {
   "cell_type": "code",
   "execution_count": 7,
   "metadata": {},
   "outputs": [
    {
     "data": {
      "text/plain": [
       "<matplotlib.image.AxesImage at 0x186f0884c10>"
      ]
     },
     "execution_count": 7,
     "metadata": {},
     "output_type": "execute_result"
    },
    {
     "data": {
      "image/png": "[encoded data removed]",
      "text/plain": [
       "<Figure size 432x288 with 1 Axes>"
      ]
     },
     "metadata": {
      "needs_background": "light"
     },
     "output_type": "display_data"
    }
   ],
   "source": [
    " plt.imshow(data[100].reshape(1, 64), cmap = 'gray') #flattened version"
   ]
  },
  {
   "cell_type": "code",
   "execution_count": 8,
   "metadata": {},
   "outputs": [
    {
     "data": {
      "text/plain": [
       "array([[ 0.,  0.,  0.,  2., 13.,  0.,  0.,  0.],\n",
       "       [ 0.,  0.,  0.,  8., 15.,  0.,  0.,  0.],\n",
       "       [ 0.,  0.,  5., 16.,  5.,  2.,  0.,  0.],\n",
       "       [ 0.,  0., 15., 12.,  1., 16.,  4.,  0.],\n",
       "       [ 0.,  4., 16.,  2.,  9., 16.,  8.,  0.],\n",
       "       [ 0.,  0., 10., 14., 16., 16.,  4.,  0.],\n",
       "       [ 0.,  0.,  0.,  0., 13.,  8.,  0.,  0.],\n",
       "       [ 0.,  0.,  0.,  0., 13.,  6.,  0.,  0.]])"
      ]
     },
     "execution_count": 8,
     "metadata": {},
     "output_type": "execute_result"
    }
   ],
   "source": [
    "images[100] #pixel values of a single image"
   ]
  },
  {
   "cell_type": "code",
   "execution_count": 9,
   "metadata": {},
   "outputs": [],
   "source": [
    "from sklearn.model_selection import train_test_split\n",
    "\n",
    "train_data, test_data, train_target, test_target = train_test_split(data, target, test_size = 0.2, )\n"
   ]
  },
  {
   "cell_type": "code",
   "execution_count": 53,
   "metadata": {},
   "outputs": [
    {
     "data": {
      "text/plain": [
       "KNeighborsClassifier(n_neighbors=1)"
      ]
     },
     "execution_count": 53,
     "metadata": {},
     "output_type": "execute_result"
    }
   ],
   "source": [
    "from sklearn.neighbors import KNeighborsClassifier\n",
    "#from sklearn.svm import SVC\n",
    "#loading KNN algo\n",
    "model = KNeighborsClassifier(n_neighbors = 1)\n",
    "\n",
    "#loading SVM algo\n",
    "#model = SVC()\n",
    "\n",
    "#trainind model\n",
    "model.fit(train_data, train_target)"
   ]
  },
  {
   "cell_type": "code",
   "execution_count": 54,
   "metadata": {},
   "outputs": [
    {
     "data": {
      "text/plain": [
       "array([2, 8, 0, 7, 0, 0, 6, 7, 4, 2, 9, 4, 1, 1, 1, 5, 0, 2, 8, 6, 6, 3,\n",
       "       7, 8, 8, 8, 2, 4, 1, 3, 8, 6, 6, 1, 1, 1, 0, 8, 3, 6, 5, 3, 5, 0,\n",
       "       9, 4, 7, 2, 8, 5, 2, 1, 8, 7, 4, 2, 5, 0, 6, 1, 0, 9, 5, 3, 3, 1,\n",
       "       5, 0, 2, 2, 1, 8, 2, 0, 1, 6, 6, 4, 5, 5, 2, 9, 5, 3, 5, 5, 9, 7,\n",
       "       3, 4, 5, 2, 1, 8, 2, 0, 6, 5, 8, 2, 1, 8, 5, 9, 7, 2, 4, 4, 7, 7,\n",
       "       8, 5, 7, 1, 9, 2, 9, 2, 9, 8, 7, 9, 9, 0, 4, 5, 0, 1, 2, 8, 0, 7,\n",
       "       1, 3, 6, 6, 6, 0, 8, 0, 9, 3, 9, 9, 0, 8, 7, 0, 0, 4, 9, 5, 3, 4,\n",
       "       1, 3, 5, 0, 4, 2, 4, 7, 6, 7, 3, 5, 8, 3, 4, 7, 1, 1, 0, 0, 9, 9,\n",
       "       6, 5, 3, 3, 3, 4, 0, 1, 8, 7, 9, 7, 9, 0, 7, 0, 9, 5, 7, 8, 3, 5,\n",
       "       1, 7, 6, 3, 4, 9, 8, 1, 0, 0, 6, 3, 5, 4, 6, 6, 0, 5, 3, 3, 0, 2,\n",
       "       0, 7, 6, 6, 5, 7, 4, 7, 7, 8, 9, 3, 1, 3, 2, 6, 3, 0, 4, 2, 3, 2,\n",
       "       1, 2, 3, 6, 9, 9, 2, 5, 7, 4, 1, 1, 9, 9, 1, 5, 5, 1, 7, 1, 8, 8,\n",
       "       4, 4, 6, 5, 9, 3, 4, 2, 3, 7, 7, 2, 0, 8, 4, 3, 1, 7, 6, 4, 9, 4,\n",
       "       8, 7, 6, 0, 7, 5, 9, 0, 8, 1, 1, 8, 7, 4, 2, 4, 1, 8, 6, 5, 6, 7,\n",
       "       1, 7, 3, 6, 6, 7, 8, 1, 5, 6, 3, 4, 3, 7, 1, 3, 2, 3, 0, 5, 7, 9,\n",
       "       6, 5, 7, 8, 1, 2, 9, 8, 9, 1, 6, 6, 4, 5, 9, 3, 0, 4, 0, 2, 8, 7,\n",
       "       3, 3, 2, 7, 3, 0, 5, 1])"
      ]
     },
     "execution_count": 54,
     "metadata": {},
     "output_type": "execute_result"
    }
   ],
   "source": [
    "#testing model\n",
    "predicted_target = model.predict(test_data)\n",
    "predicted_target"
   ]
  },
  {
   "cell_type": "code",
   "execution_count": 55,
   "metadata": {},
   "outputs": [
    {
     "data": {
      "text/plain": [
       "array([2, 8, 0, 7, 0, 0, 6, 7, 4, 2, 9, 4, 8, 1, 1, 5, 0, 2, 8, 6, 6, 3,\n",
       "       7, 8, 8, 8, 2, 4, 1, 3, 8, 6, 6, 1, 1, 1, 0, 8, 3, 6, 5, 3, 5, 0,\n",
       "       9, 4, 7, 2, 8, 5, 2, 1, 8, 7, 4, 2, 5, 0, 6, 1, 0, 5, 5, 3, 3, 1,\n",
       "       5, 0, 2, 2, 1, 8, 2, 0, 1, 6, 6, 4, 5, 5, 2, 9, 5, 3, 5, 5, 9, 7,\n",
       "       3, 4, 5, 2, 1, 8, 2, 0, 6, 5, 8, 2, 1, 8, 5, 9, 7, 2, 4, 4, 7, 7,\n",
       "       8, 5, 7, 1, 9, 2, 9, 2, 9, 8, 7, 9, 9, 0, 4, 5, 0, 1, 2, 8, 0, 7,\n",
       "       1, 3, 6, 6, 6, 0, 8, 0, 9, 3, 9, 9, 0, 8, 7, 0, 0, 4, 9, 5, 3, 4,\n",
       "       1, 3, 5, 0, 4, 2, 4, 7, 6, 7, 9, 5, 8, 3, 4, 7, 1, 1, 0, 0, 9, 9,\n",
       "       6, 5, 2, 3, 3, 4, 0, 1, 8, 7, 9, 7, 9, 0, 7, 0, 9, 5, 7, 8, 3, 5,\n",
       "       1, 7, 6, 3, 4, 9, 8, 1, 0, 0, 6, 3, 5, 4, 6, 6, 0, 5, 3, 3, 0, 2,\n",
       "       0, 7, 6, 6, 5, 7, 4, 7, 7, 8, 9, 3, 1, 3, 2, 6, 3, 0, 4, 2, 3, 2,\n",
       "       1, 2, 9, 6, 9, 9, 2, 5, 7, 4, 1, 1, 9, 9, 1, 5, 5, 1, 7, 1, 8, 8,\n",
       "       4, 4, 6, 5, 9, 3, 4, 2, 3, 7, 7, 2, 0, 8, 4, 3, 1, 7, 6, 4, 9, 4,\n",
       "       8, 7, 6, 0, 7, 5, 9, 0, 8, 1, 1, 8, 7, 4, 2, 4, 1, 8, 6, 5, 6, 7,\n",
       "       1, 7, 3, 6, 6, 7, 8, 1, 5, 6, 3, 4, 3, 7, 1, 3, 2, 3, 0, 5, 7, 9,\n",
       "       6, 5, 7, 8, 1, 2, 9, 8, 9, 1, 6, 6, 4, 5, 9, 3, 0, 4, 0, 2, 8, 7,\n",
       "       3, 3, 2, 7, 3, 0, 5, 1])"
      ]
     },
     "execution_count": 55,
     "metadata": {},
     "output_type": "execute_result"
    }
   ],
   "source": [
    "test_target"
   ]
  },
  {
   "cell_type": "code",
   "execution_count": 56,
   "metadata": {},
   "outputs": [
    {
     "data": {
      "text/plain": [
       "98.61111111111111"
      ]
     },
     "execution_count": 56,
     "metadata": {},
     "output_type": "execute_result"
    }
   ],
   "source": [
    "from sklearn.metrics import accuracy_score\n",
    "\n",
    "acc = accuracy_score(test_target, predicted_target)\n",
    "acc*100"
   ]
  },
  {
   "cell_type": "code",
   "execution_count": 57,
   "metadata": {},
   "outputs": [
    {
     "data": {
      "text/plain": [
       "['KNN_handwritten_digits.sav']"
      ]
     },
     "execution_count": 57,
     "metadata": {},
     "output_type": "execute_result"
    }
   ],
   "source": [
    "import joblib\n",
    "\n",
    "joblib.dump(model, 'KNN_handwritten_digits.sav')"
   ]
  },
  {
   "cell_type": "code",
   "execution_count": null,
   "metadata": {},
   "outputs": [],
   "source": []
  }
 ],
 "metadata": {
  "kernelspec": {
   "display_name": "Python 3",
   "language": "python",
   "name": "python3"
  },
  "language_info": {
   "codemirror_mode": {
    "name": "ipython",
    "version": 3
   },
   "file_extension": ".py",
   "mimetype": "text/x-python",
   "name": "python",
   "nbconvert_exporter": "python",
   "pygments_lexer": "ipython3",
   "version": "3.8.5"
  }
 },
 "nbformat": 4,
 "nbformat_minor": 4
}
